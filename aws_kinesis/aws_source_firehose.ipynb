{
 "cells": [
  {
   "cell_type": "code",
   "execution_count": null,
   "metadata": {},
   "outputs": [],
   "source": [
    "{\n",
    "  \"transaction_id\": \"abcd1234\",\n",
    "  \"timestamp\": \"2024-08-20T12:34:56Z\",\n",
    "  \"customer_id\": \"cust5678\",\n",
    "  \"items\": [\n",
    "    {\"item_id\": \"item1\", \"quantity\": 2, \"price\": 19.99},\n",
    "    {\"item_id\": \"item2\", \"quantity\": 1, \"price\": 9.99}\n",
    "  ],\n",
    "  \"total_amount\": 49.97\n",
    "}"
   ]
  },
  {
   "cell_type": "code",
   "execution_count": null,
   "metadata": {},
   "outputs": [],
   "source": [
    "Configure the Kinesis Agent\n",
    "\n",
    "Create a configuration file for the Kinesis Agent (e.g., /etc/aws-kinesis-agent.json):"
   ]
  },
  {
   "cell_type": "code",
   "execution_count": null,
   "metadata": {},
   "outputs": [],
   "source": [
    "{\n",
    "  \"firehose\": [\n",
    "    {\n",
    "      \"delivery_stream\": \"your-firehose-stream-name\",\n",
    "      \"file_pattern\": \"/path/to/your/logs/*.log\",\n",
    "      \"data_processing_options\": [\n",
    "        {\n",
    "          \"type\": \"JSON\"\n",
    "        }\n",
    "      ]\n",
    "    }\n",
    "  ]\n",
    "}"
   ]
  },
  {
   "cell_type": "code",
   "execution_count": null,
   "metadata": {},
   "outputs": [],
   "source": [
    "sudo service aws-kinesis-agent start"
   ]
  },
  {
   "cell_type": "code",
   "execution_count": null,
   "metadata": {},
   "outputs": [],
   "source": [
    "Here’s the code to process and decrypt data, and then save it to S3.\n",
    "\n",
    "Lambda Function Code (lambda_function.py):"
   ]
  },
  {
   "cell_type": "code",
   "execution_count": null,
   "metadata": {},
   "outputs": [],
   "source": [
    "import json\n",
    "import boto3\n",
    "from cryptography.fernet import Fernet\n",
    "import os\n",
    "\n",
    "# Initialize AWS clients\n",
    "s3_client = boto3.client('s3')\n",
    "key = os.environ['FERNET_KEY']  # Retrieve encryption key from environment variable\n",
    "cipher_suite = Fernet(key)\n",
    "\n",
    "def lambda_handler(event, context):\n",
    "    bucket_name = 'your-s3-bucket-name'\n",
    "    \n",
    "    for record in event['Records']:\n",
    "        # Decode and decrypt the record's data\n",
    "        encrypted_data = record['kinesis']['data']\n",
    "        decrypted_data = cipher_suite.decrypt(encrypted_data.encode('utf-8')).decode('utf-8')\n",
    "        payload = json.loads(decrypted_data)\n",
    "        \n",
    "        # Generate a file name based on the record timestamp\n",
    "        file_name = f\"{payload['timestamp']}.json\"\n",
    "        \n",
    "        # Save the decrypted payload to S3\n",
    "        s3_client.put_object(\n",
    "            Bucket=bucket_name,\n",
    "            Key=file_name,\n",
    "            Body=json.dumps(payload)\n",
    "        )\n",
    "        \n",
    "    return {\n",
    "        'statusCode': 200,\n",
    "        'body': json.dumps('Processed records successfully.')\n",
    "    }\n"
   ]
  },
  {
   "cell_type": "code",
   "execution_count": null,
   "metadata": {},
   "outputs": [],
   "source": [
    "aws glue create-crawler \\\n",
    "    --name your-crawler-name \\\n",
    "    --role your-iam-role-arn \\\n",
    "    --database-name your-database-name \\\n",
    "    --targets '{\"s3Targets\": [{\"path\": \"s3://your-bucket-name/path/\"}]}' \\\n",
    "    --table-prefix your-table-prefix \\\n",
    "    --schema-change-policy '{\"UpdateBehavior\": \"UPDATE_IN_DATABASE\", \"DeleteBehavior\": \"DELETE_FROM_DATABASE\"}'\n",
    "    # --configuration '{\"Version\": 1, \"CrawlerOutput\": {\"Partitions\": {\"AddOrUpdateBehavior\": \"InheritFromTable\"}}}' - optional\n",
    "    # --recrawl-policy '{\"RecrawlBehavior\": \"CRAWL_EVERYTHING\"}'  - optional\n",
    "\n",
    "    # This will create a new table in the Glue Data Catalog based on the schema of the JSON files in the S3 bucket."
   ]
  },
  {
   "cell_type": "code",
   "execution_count": null,
   "metadata": {},
   "outputs": [],
   "source": [
    "Run the Glue Crawler\n",
    "To start the crawler, use the start-crawler command. This command initiates the schema discovery process."
   ]
  },
  {
   "cell_type": "code",
   "execution_count": null,
   "metadata": {},
   "outputs": [],
   "source": [
    "aws glue start-crawler --name your-crawler-name"
   ]
  },
  {
   "cell_type": "code",
   "execution_count": null,
   "metadata": {},
   "outputs": [],
   "source": [
    "CREATE EXTERNAL SCHEMA your_external_schema\n",
    "FROM DATA CATALOG # This is the keyword to create an external schema in Redshift. \n",
    "DATABASE 'your_glue_database'\n",
    "IAM_ROLE 'your-iam-role'\n",
    "CREATE EXTERNAL DATABASE IF NOT EXISTS;\n",
    "\n",
    "# This is external schema, so you can use it to query data from the Glue Data Catalog.\n",
    "# The data is stored in the S3 bucket, and the schema is stored in the Glue Data Catalog.\n",
    "# we used the keyword external schema to create a schema that is not stored in the database which is local to Glue.\n",
    "\n",
    "# Since we are running the query in the Redshift cluster, we need to create a schema in \n",
    "# the Redshift cluster to access the data from the Glue Data Catalog."
   ]
  },
  {
   "cell_type": "code",
   "execution_count": null,
   "metadata": {},
   "outputs": [],
   "source": [
    "SELECT *\n",
    "FROM your_external_schema.your_table\n",
    "WHERE timestamp > '2024-08-01T00:00:00Z';"
   ]
  },
  {
   "cell_type": "code",
   "execution_count": null,
   "metadata": {},
   "outputs": [],
   "source": []
  }
 ],
 "metadata": {
  "kernelspec": {
   "display_name": "Python 3",
   "language": "python",
   "name": "python3"
  },
  "language_info": {
   "codemirror_mode": {
    "name": "ipython",
    "version": 3
   },
   "file_extension": ".py",
   "mimetype": "text/x-python",
   "name": "python",
   "nbconvert_exporter": "python",
   "pygments_lexer": "ipython3",
   "version": "3.9.6"
  }
 },
 "nbformat": 4,
 "nbformat_minor": 2
}
