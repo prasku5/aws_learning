{
 "cells": [
  {
   "cell_type": "code",
   "execution_count": 5,
   "metadata": {},
   "outputs": [],
   "source": [
    "# Below is an example of how to write a Python script to send data to your Kinesis stream."
   ]
  },
  {
   "cell_type": "code",
   "execution_count": null,
   "metadata": {},
   "outputs": [],
   "source": [
    "from cryptography.fernet import Fernet # fernet is a symmetric encryption algorithm that uses the same key for both encryption and decryption\n",
    "import boto3\n",
    "import json\n",
    "import time\n",
    "import os\n",
    "\n",
    "# Generate and print a key. This should be done once and securely stored.\n",
    "# key = Fernet.generate_key()\n",
    "# print(f\"Save this key: {key.decode()}\")\n",
    "\n",
    "# Replace with your stored key\n",
    "key = b'your-encryption-key-here'  # This should be a securely stored key\n",
    "cipher_suite = Fernet(key)  # Create a cipher suite with the key which will be used to encrypt and decrypt data\n",
    "\n",
    "# Initialize the Kinesis client\n",
    "kinesis_client = boto3.client('kinesis', region_name='your-region')\n",
    "\n",
    "# Stream name\n",
    "stream_name = 'your-stream-name'\n",
    "\n",
    "# Path to the folder containing .log files\n",
    "folder_path = 'path/to/your/folder'\n",
    "\n",
    "def get_data_from_file(file_path):\n",
    "    \"\"\"Read JSON data from a .log file.\"\"\"\n",
    "    with open(file_path, 'r') as file:\n",
    "        return json.load(file) # load is used to convert a JSON string into a Python object \n",
    "                               # This is used to read the JSON data from the file and convert it into a Python object\n",
    "\n",
    "def encrypt_data(data):\n",
    "    \"\"\"Encrypt JSON data using Fernet.\"\"\"\n",
    "    json_data = json.dumps(data).encode('utf-8')  # Convert data to JSON string and encode it to bytes for encryption\n",
    "    encrypted_data = cipher_suite.encrypt(json_data)\n",
    "    return encrypted_data\n",
    "\n",
    "def send_to_kinesis(data):\n",
    "    \"\"\"Encrypt and send data to Kinesis.\"\"\"\n",
    "    encrypted_data = encrypt_data(data) # Encrypt the data before sending it to Kinesis\n",
    "    response = kinesis_client.put_record(\n",
    "        StreamName=stream_name,\n",
    "        Data=encrypted_data,\n",
    "        PartitionKey='partitionKey'\n",
    "    )\n",
    "    print(f\"Sent encrypted data: {encrypted_data} to Kinesis with response: {response}\")\n",
    "\n",
    "def process_logs():\n",
    "    \"\"\"Process .log files in the specified folder.\"\"\"\n",
    "    for filename in os.listdir(folder_path): # Here we are listing all the files in the folder \n",
    "        if filename.endswith('.log'): # Check if the file is a .log file \n",
    "            file_path = os.path.join(folder_path, filename) # Get the full path of the file\n",
    "            try:\n",
    "                data = get_data_from_file(file_path)\n",
    "                send_to_kinesis(data)\n",
    "            except Exception as e:\n",
    "                print(f\"Error processing file {filename}: {e}\")\n",
    "\n",
    "# Simulate a continuous stream of data\n",
    "while True:\n",
    "    process_logs()\n",
    "    time.sleep(60)  # Check the folder every minute, adjust as needed\n"
   ]
  },
  {
   "cell_type": "code",
   "execution_count": null,
   "metadata": {},
   "outputs": [],
   "source": [
    "# The Kinesis Agent configuration is typically stored in /etc/aws-kinesis/agent.json. \n",
    "# You need to edit this file to specify which log files to monitor and where to send the data."
   ]
  },
  {
   "cell_type": "code",
   "execution_count": null,
   "metadata": {},
   "outputs": [],
   "source": [
    "{\n",
    "    \"cloudwatch.emitMetrics\": true,\n",
    "    \"firehose.endpoint\": \"firehose.us-west-2.amazonaws.com\",\n",
    "    \"kinesis.endpoint\": \"kinesis.us-west-2.amazonaws.com\",\n",
    "    \"kinesis.streamName\": \"your-stream-name\",\n",
    "    \"kinesis.roleArn\": \"arn:aws:iam::your-account-id:role/your-kinesis-role\",\n",
    "    \"logs\": [\n",
    "        {\n",
    "            \"filePattern\": \"/path/to/your/folder/*.log\",\n",
    "            # logGroupName: The name of the CloudWatch Logs group (if used with CloudWatch).\n",
    "            \"logGroupName\": \"your-log-group\", # The log group where the logs will be stored.\n",
    "            # logStreamName: The name of the CloudWatch Logs stream (if used with CloudWatch).\n",
    "            \"logStreamName\": \"{instance_id}/your-log-stream\"\n",
    "        }\n",
    "    ]\n",
    "}\n",
    "\n",
    "\n",
    "\n",
    "# sudo service amazon-kinesis-agent start ---> To start the Kinesis Agent\n"
   ]
  },
  {
   "cell_type": "code",
   "execution_count": null,
   "metadata": {},
   "outputs": [],
   "source": [
    "# configure Lambda to process the data from the Kinesis stream and store it in an S3 bucket. "
   ]
  },
  {
   "cell_type": "code",
   "execution_count": null,
   "metadata": {},
   "outputs": [],
   "source": [
    "import json\n",
    "\n",
    "def lambda_handler(event, context): # event is the input data that triggers the Lambda function.\n",
    "                                    # context provides information about the invocation, function, and execution environment.\n",
    "    # Iterate through each record in the batch\n",
    "    for record in event['Records']:\n",
    "        # Decode the record's data (base64 encoded)\n",
    "        payload = json.loads(record['kinesis']['data'])\n",
    "        \n",
    "        # Process the payload (the actual processing logic will depend on your use case)\n",
    "        print(f\"Processing record: {payload}\")\n",
    "        \n",
    "        # Example processing (e.g., extracting a field)\n",
    "        # field = payload.get('field_name', 'default_value')\n",
    "        # Perform additional processing as needed\n",
    "\n",
    "    return {\n",
    "        'statusCode': 200,\n",
    "        'body': json.dumps('Processed records successfully.') # Return a response indicating successful processing\n",
    "        # we are using json.dumps to convert the response into a JSON string before returning it\n",
    "    }"
   ]
  },
  {
   "cell_type": "code",
   "execution_count": null,
   "metadata": {},
   "outputs": [],
   "source": [
    "# we can also map the Lambda function to the Kinesis stream so that it automatically processes the data as it arrives.\n",
    "\n",
    "aws lambda create-event-source-mapping \n",
    "--function-name MyLambdaFunction \n",
    "--batch-size 100 \n",
    "--event-source-arn arn:aws:kinesis:your-region:your-account-id:stream/your-stream-name --starting-position TRIM_HORIZON"
   ]
  }
 ],
 "metadata": {
  "kernelspec": {
   "display_name": "Python 3",
   "language": "python",
   "name": "python3"
  },
  "language_info": {
   "codemirror_mode": {
    "name": "ipython",
    "version": 3
   },
   "file_extension": ".py",
   "mimetype": "text/x-python",
   "name": "python",
   "nbconvert_exporter": "python",
   "pygments_lexer": "ipython3",
   "version": "3.9.6"
  }
 },
 "nbformat": 4,
 "nbformat_minor": 2
}
